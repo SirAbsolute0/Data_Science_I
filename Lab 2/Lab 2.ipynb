{
 "cells": [
  {
   "cell_type": "code",
   "execution_count": 1,
   "metadata": {},
   "outputs": [],
   "source": [
    "import pandas as pd\n",
    "import numpy as np"
   ]
  },
  {
   "cell_type": "code",
   "execution_count": 2,
   "metadata": {},
   "outputs": [
    {
     "name": "stdout",
     "output_type": "stream",
     "text": [
      "A    1\n",
      "B    2\n",
      "C    3\n",
      "dtype: int64\n",
      "<class 'pandas.core.series.Series'>\n",
      "A    1\n",
      "B    2\n",
      "C    3\n",
      "dtype: int64\n",
      "<class 'pandas.core.series.Series'>\n"
     ]
    }
   ],
   "source": [
    "#A series is a 1d labelled array.\n",
    "#Create series using pd.Series(data, index)\n",
    "\n",
    "series = pd.Series(data = [1, 2, 3], index = ['A', 'B', 'C'])\n",
    "print(series)\n",
    "print(type(series))\n",
    "\n",
    "series2 = pd.Series([1, 2, 3], ['A', 'B', 'C'])\n",
    "print(series2)\n",
    "print(type(series2))"
   ]
  },
  {
   "cell_type": "code",
   "execution_count": 3,
   "metadata": {},
   "outputs": [
    {
     "name": "stdout",
     "output_type": "stream",
     "text": [
      "Acessing using series[0]: 1\n",
      "Accessing using series['A']: 1\n"
     ]
    }
   ],
   "source": [
    "#Now we can access array element using 2 different ways:\n",
    "print(f\"Acessing using series[0]: {series[0]}\")\n",
    "print(f\"Accessing using series['A']: {series['A']}\")"
   ]
  },
  {
   "cell_type": "code",
   "execution_count": 7,
   "metadata": {},
   "outputs": [
    {
     "name": "stdout",
     "output_type": "stream",
     "text": [
      "A    1\n",
      "B    2\n",
      "C    3\n",
      "dtype: int64\n",
      "From Numpy array\n",
      "A    1\n",
      "B    2\n",
      "C    3\n",
      "dtype: int32\n",
      "From Python Dictionary\n",
      "<class 'dict'>\n",
      "A    1\n",
      "B    2\n",
      "C    3\n",
      "dtype: int64\n",
      "<class 'pandas.core.series.Series'>\n"
     ]
    }
   ],
   "source": [
    "#Data in the series can be passed as either:\n",
    "# A python list\n",
    "# A numpy array\n",
    "# A python dictionary\n",
    "\n",
    "#Python list\n",
    "series5 = pd.Series(data = [1, 2, 3], index = ['A', 'B', 'C'])\n",
    "print(series5)\n",
    "\n",
    "#Numpy array\n",
    "print(\"From Numpy array\")\n",
    "series4 = pd.Series(data = np.array([1, 2, 3]), index = ['A', 'B', 'C'])\n",
    "print(series4)\n",
    "\n",
    "#Python Dictionary\n",
    "print(\"From Python Dictionary\")\n",
    "dict_ = {'A' : 1, 'B' : 2, 'C' : 3}\n",
    "print(type(dict_))\n",
    "\n",
    "series3 = pd.Series(dict_)\n",
    "print(series3)\n",
    "print(type(series3))"
   ]
  },
  {
   "cell_type": "code",
   "execution_count": 8,
   "metadata": {},
   "outputs": [
    {
     "name": "stdout",
     "output_type": "stream",
     "text": [
      "0    1\n",
      "1    2\n",
      "2    3\n",
      "dtype: int64\n"
     ]
    }
   ],
   "source": [
    "#If there are no label, series will default to [0, n) where n is the number of data values\n",
    "series6 = pd.Series(data = [1, 2, 3])\n",
    "print(series6)"
   ]
  },
  {
   "cell_type": "code",
   "execution_count": 11,
   "metadata": {},
   "outputs": [
    {
     "name": "stdout",
     "output_type": "stream",
     "text": [
      "Bob      100\n",
      "Sally     50\n",
      "Jess     300\n",
      "dtype: int64\n",
      "Bob      500\n",
      "Sally     30\n",
      "Jess      20\n",
      "dtype: int64\n",
      "Bob      600\n",
      "Sally     80\n",
      "Jess     320\n",
      "dtype: int64\n"
     ]
    }
   ],
   "source": [
    "#We can perform operation on series (done base on index)\n",
    "\n",
    "week_one = pd.Series(data=[100, 50, 300], index=['Bob', 'Sally', 'Jess'])\n",
    "print(week_one)\n",
    "\n",
    "\n",
    "week_two = pd.Series(data=[500, 30, 20], index=['Bob', 'Sally', 'Jess'])\n",
    "print(week_two)\n",
    "\n",
    "total = week_one + week_two\n",
    "print(total)"
   ]
  },
  {
   "cell_type": "code",
   "execution_count": 12,
   "metadata": {},
   "outputs": [
    {
     "name": "stdout",
     "output_type": "stream",
     "text": [
      "Bob      100\n",
      "Peter     50\n",
      "Jess     300\n",
      "dtype: int64\n",
      "Bob      500\n",
      "Sally     30\n",
      "Jess      20\n",
      "dtype: int64\n",
      "Bob      600.0\n",
      "Jess     320.0\n",
      "Peter      NaN\n",
      "Sally      NaN\n",
      "dtype: float64\n"
     ]
    }
   ],
   "source": [
    "week_one = pd.Series(data=[100, 50, 300], index=['Bob', 'Peter', 'Jess'])\n",
    "print(week_one)\n",
    "\n",
    "\n",
    "week_two = pd.Series(data=[500, 30, 20], index=['Bob', 'Sally', 'Jess'])\n",
    "print(week_two)\n",
    "\n",
    "#Can perform operation if both don't have exactly the same column label but will result in NaN for the missing column \n",
    "total2 = week_one + week_two\n",
    "print(total2)"
   ]
  },
  {
   "cell_type": "code",
   "execution_count": null,
   "metadata": {},
   "outputs": [],
   "source": []
  }
 ],
 "metadata": {
  "kernelspec": {
   "display_name": "Python 3",
   "language": "python",
   "name": "python3"
  },
  "language_info": {
   "codemirror_mode": {
    "name": "ipython",
    "version": 3
   },
   "file_extension": ".py",
   "mimetype": "text/x-python",
   "name": "python",
   "nbconvert_exporter": "python",
   "pygments_lexer": "ipython3",
   "version": "3.7.10"
  }
 },
 "nbformat": 4,
 "nbformat_minor": 4
}
