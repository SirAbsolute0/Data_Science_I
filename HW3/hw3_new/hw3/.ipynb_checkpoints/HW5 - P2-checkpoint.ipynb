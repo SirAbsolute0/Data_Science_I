{
 "cells": [
  {
   "cell_type": "code",
   "execution_count": 3,
   "metadata": {},
   "outputs": [
    {
     "name": "stdout",
     "output_type": "stream",
     "text": [
      "Enter the list items separated by space 1 2 3 4 5 \n",
      "[1, 2, 3, 4, 5]\n"
     ]
    }
   ],
   "source": [
    "def djikstra(source, end, connection, seen_dict, distance_dict):\n",
    "    for node in connection:\n",
    "        \n",
    "def main():\n",
    "    first = list(int(num) for num in input().strip().split())\n",
    "    second = list(int(num) for num in input().strip().split())\n",
    "    \n",
    "    nodes = first[0]\n",
    "    edges = first[1]\n",
    "    source = second[0]\n",
    "    end = second[1]\n",
    "    \n",
    "    connection = []\n",
    "    for i in range(edges):\n",
    "        connection.append(list(int(num) for num in input().strip().split()))\n",
    "    \n",
    "    distance_dict = {}\n",
    "    seen_dict = {}\n",
    "    \n",
    "    for i in range(nodes):\n",
    "        distance_dict[i] = float('inf')\n",
    "        seen[i] = False\n",
    "        \n",
    "    distance_dict[source] = 0\n",
    "        \n",
    "    print(dict_)\n",
    "if __name__ == \"__main__\":\n",
    "    main()"
   ]
  },
  {
   "cell_type": "code",
   "execution_count": null,
   "metadata": {},
   "outputs": [],
   "source": []
  }
 ],
 "metadata": {
  "kernelspec": {
   "display_name": "Python 3 (ipykernel)",
   "language": "python",
   "name": "python3"
  },
  "language_info": {
   "codemirror_mode": {
    "name": "ipython",
    "version": 3
   },
   "file_extension": ".py",
   "mimetype": "text/x-python",
   "name": "python",
   "nbconvert_exporter": "python",
   "pygments_lexer": "ipython3",
   "version": "3.7.11"
  }
 },
 "nbformat": 4,
 "nbformat_minor": 4
}
